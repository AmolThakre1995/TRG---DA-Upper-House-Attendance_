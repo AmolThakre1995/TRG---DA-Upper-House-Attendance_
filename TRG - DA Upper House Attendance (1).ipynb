{
 "cells": [
  {
   "cell_type": "markdown",
   "metadata": {},
   "source": [
    "# 2017 Upper Hours Attendance Analysis"
   ]
  },
  {
   "cell_type": "markdown",
   "metadata": {},
   "source": [
    "### Import the required Python modules"
   ]
  },
  {
   "cell_type": "code",
   "execution_count": 1,
   "metadata": {},
   "outputs": [],
   "source": [
    "import pandas as pd\n",
    "import numpy as np\n",
    "import matplotlib.pyplot as plt\n",
    "import seaborn as sns"
   ]
  },
  {
   "cell_type": "markdown",
   "metadata": {},
   "source": [
    "### Load the Data"
   ]
  },
  {
   "cell_type": "code",
   "execution_count": 2,
   "metadata": {},
   "outputs": [],
   "source": [
    "df = pd.read_excel('ADA001 - 2017 Upper House Attendance.xlsx', parse_dates=['From Date','To Date'])"
   ]
  },
  {
   "cell_type": "markdown",
   "metadata": {},
   "source": [
    "### Shape of the Data"
   ]
  },
  {
   "cell_type": "code",
   "execution_count": 3,
   "metadata": {
    "scrolled": true
   },
   "outputs": [
    {
     "data": {
      "text/plain": [
       "(249, 9)"
      ]
     },
     "execution_count": 3,
     "metadata": {},
     "output_type": "execute_result"
    }
   ],
   "source": [
    "df.shape"
   ]
  },
  {
   "cell_type": "markdown",
   "metadata": {},
   "source": [
    "Inference : "
   ]
  },
  {
   "cell_type": "markdown",
   "metadata": {},
   "source": [
    "### Check out for null values"
   ]
  },
  {
   "cell_type": "code",
   "execution_count": 4,
   "metadata": {
    "scrolled": true
   },
   "outputs": [
    {
     "data": {
      "text/plain": [
       "s.no.                                    0\n",
       "Division/ SeatNo                         0\n",
       "Name Of Member                           0\n",
       "session                                  0\n",
       "From Date                                0\n",
       "To Date                                  0\n",
       "State                                    0\n",
       "Total Sittings                           0\n",
       "No Of Days Member Signed The Register    0\n",
       "dtype: int64"
      ]
     },
     "execution_count": 4,
     "metadata": {},
     "output_type": "execute_result"
    }
   ],
   "source": [
    "df.isnull().sum()"
   ]
  },
  {
   "cell_type": "markdown",
   "metadata": {},
   "source": [
    "Inference : There is no missing values"
   ]
  },
  {
   "cell_type": "markdown",
   "metadata": {},
   "source": [
    "### Check for Duplicate records"
   ]
  },
  {
   "cell_type": "code",
   "execution_count": 5,
   "metadata": {},
   "outputs": [
    {
     "data": {
      "text/plain": [
       "0"
      ]
     },
     "execution_count": 5,
     "metadata": {},
     "output_type": "execute_result"
    }
   ],
   "source": [
    "df.duplicated().sum()"
   ]
  },
  {
   "cell_type": "markdown",
   "metadata": {},
   "source": [
    "Inference : There is no dupplicate record"
   ]
  },
  {
   "cell_type": "markdown",
   "metadata": {},
   "source": [
    "### Quick view of the data"
   ]
  },
  {
   "cell_type": "code",
   "execution_count": 6,
   "metadata": {
    "scrolled": true
   },
   "outputs": [
    {
     "data": {
      "text/html": [
       "<div>\n",
       "<style scoped>\n",
       "    .dataframe tbody tr th:only-of-type {\n",
       "        vertical-align: middle;\n",
       "    }\n",
       "\n",
       "    .dataframe tbody tr th {\n",
       "        vertical-align: top;\n",
       "    }\n",
       "\n",
       "    .dataframe thead th {\n",
       "        text-align: right;\n",
       "    }\n",
       "</style>\n",
       "<table border=\"1\" class=\"dataframe\">\n",
       "  <thead>\n",
       "    <tr style=\"text-align: right;\">\n",
       "      <th></th>\n",
       "      <th>s.no.</th>\n",
       "      <th>Division/ SeatNo</th>\n",
       "      <th>Name Of Member</th>\n",
       "      <th>session</th>\n",
       "      <th>From Date</th>\n",
       "      <th>To Date</th>\n",
       "      <th>State</th>\n",
       "      <th>Total Sittings</th>\n",
       "      <th>No Of Days Member Signed The Register</th>\n",
       "    </tr>\n",
       "  </thead>\n",
       "  <tbody>\n",
       "    <tr>\n",
       "      <th>0</th>\n",
       "      <td>1</td>\n",
       "      <td>0</td>\n",
       "      <td>Shri Vinay Dinu Tendulkar</td>\n",
       "      <td>243</td>\n",
       "      <td>2017-07-17</td>\n",
       "      <td>2017-11-08</td>\n",
       "      <td>Goa</td>\n",
       "      <td>19</td>\n",
       "      <td>9</td>\n",
       "    </tr>\n",
       "    <tr>\n",
       "      <th>1</th>\n",
       "      <td>2</td>\n",
       "      <td>0</td>\n",
       "      <td>Smt. Sampatiya Uikey</td>\n",
       "      <td>243</td>\n",
       "      <td>2017-07-17</td>\n",
       "      <td>2017-11-08</td>\n",
       "      <td>Madhya Pradesh</td>\n",
       "      <td>19</td>\n",
       "      <td>2</td>\n",
       "    </tr>\n",
       "  </tbody>\n",
       "</table>\n",
       "</div>"
      ],
      "text/plain": [
       "   s.no.  Division/ SeatNo             Name Of Member  session  From Date  \\\n",
       "0      1                 0  Shri Vinay Dinu Tendulkar      243 2017-07-17   \n",
       "1      2                 0       Smt. Sampatiya Uikey      243 2017-07-17   \n",
       "\n",
       "     To Date           State  Total Sittings  \\\n",
       "0 2017-11-08             Goa              19   \n",
       "1 2017-11-08  Madhya Pradesh              19   \n",
       "\n",
       "  No Of Days Member Signed The Register  \n",
       "0                                     9  \n",
       "1                                     2  "
      ]
     },
     "execution_count": 6,
     "metadata": {},
     "output_type": "execute_result"
    }
   ],
   "source": [
    "df.head(2)"
   ]
  },
  {
   "cell_type": "code",
   "execution_count": 7,
   "metadata": {},
   "outputs": [
    {
     "data": {
      "text/html": [
       "<div>\n",
       "<style scoped>\n",
       "    .dataframe tbody tr th:only-of-type {\n",
       "        vertical-align: middle;\n",
       "    }\n",
       "\n",
       "    .dataframe tbody tr th {\n",
       "        vertical-align: top;\n",
       "    }\n",
       "\n",
       "    .dataframe thead th {\n",
       "        text-align: right;\n",
       "    }\n",
       "</style>\n",
       "<table border=\"1\" class=\"dataframe\">\n",
       "  <thead>\n",
       "    <tr style=\"text-align: right;\">\n",
       "      <th></th>\n",
       "      <th>s.no.</th>\n",
       "      <th>Division/ SeatNo</th>\n",
       "      <th>Name Of Member</th>\n",
       "      <th>session</th>\n",
       "      <th>From Date</th>\n",
       "      <th>To Date</th>\n",
       "      <th>State</th>\n",
       "      <th>Total Sittings</th>\n",
       "      <th>No Of Days Member Signed The Register</th>\n",
       "    </tr>\n",
       "  </thead>\n",
       "  <tbody>\n",
       "    <tr>\n",
       "      <th>247</th>\n",
       "      <td>248</td>\n",
       "      <td>249</td>\n",
       "      <td>Dr. Pradeep Kumar Balmuchu</td>\n",
       "      <td>243</td>\n",
       "      <td>2017-07-17</td>\n",
       "      <td>2017-11-08</td>\n",
       "      <td>Jharkhand</td>\n",
       "      <td>19</td>\n",
       "      <td>17</td>\n",
       "    </tr>\n",
       "    <tr>\n",
       "      <th>248</th>\n",
       "      <td>249</td>\n",
       "      <td>250</td>\n",
       "      <td>Shri Mahendra Singh Mahra</td>\n",
       "      <td>243</td>\n",
       "      <td>2017-07-17</td>\n",
       "      <td>2017-11-08</td>\n",
       "      <td>Uttarakhand</td>\n",
       "      <td>19</td>\n",
       "      <td>19</td>\n",
       "    </tr>\n",
       "  </tbody>\n",
       "</table>\n",
       "</div>"
      ],
      "text/plain": [
       "     s.no.  Division/ SeatNo              Name Of Member  session  From Date  \\\n",
       "247    248               249  Dr. Pradeep Kumar Balmuchu      243 2017-07-17   \n",
       "248    249               250   Shri Mahendra Singh Mahra      243 2017-07-17   \n",
       "\n",
       "       To Date        State  Total Sittings  \\\n",
       "247 2017-11-08    Jharkhand              19   \n",
       "248 2017-11-08  Uttarakhand              19   \n",
       "\n",
       "    No Of Days Member Signed The Register  \n",
       "247                                    17  \n",
       "248                                    19  "
      ]
     },
     "execution_count": 7,
     "metadata": {},
     "output_type": "execute_result"
    }
   ],
   "source": [
    "df.tail(2)"
   ]
  },
  {
   "cell_type": "code",
   "execution_count": 8,
   "metadata": {
    "scrolled": true
   },
   "outputs": [
    {
     "data": {
      "text/html": [
       "<div>\n",
       "<style scoped>\n",
       "    .dataframe tbody tr th:only-of-type {\n",
       "        vertical-align: middle;\n",
       "    }\n",
       "\n",
       "    .dataframe tbody tr th {\n",
       "        vertical-align: top;\n",
       "    }\n",
       "\n",
       "    .dataframe thead th {\n",
       "        text-align: right;\n",
       "    }\n",
       "</style>\n",
       "<table border=\"1\" class=\"dataframe\">\n",
       "  <thead>\n",
       "    <tr style=\"text-align: right;\">\n",
       "      <th></th>\n",
       "      <th>s.no.</th>\n",
       "      <th>Division/ SeatNo</th>\n",
       "      <th>Name Of Member</th>\n",
       "      <th>session</th>\n",
       "      <th>From Date</th>\n",
       "      <th>To Date</th>\n",
       "      <th>State</th>\n",
       "      <th>Total Sittings</th>\n",
       "      <th>No Of Days Member Signed The Register</th>\n",
       "    </tr>\n",
       "  </thead>\n",
       "  <tbody>\n",
       "    <tr>\n",
       "      <th>166</th>\n",
       "      <td>167</td>\n",
       "      <td>163</td>\n",
       "      <td>Shri Ravi Prakash Verma</td>\n",
       "      <td>243</td>\n",
       "      <td>2017-07-17</td>\n",
       "      <td>2017-11-08</td>\n",
       "      <td>Uttar Pradesh</td>\n",
       "      <td>19</td>\n",
       "      <td>17</td>\n",
       "    </tr>\n",
       "    <tr>\n",
       "      <th>152</th>\n",
       "      <td>153</td>\n",
       "      <td>149</td>\n",
       "      <td>Shri Ram Chandra Prasad Singh</td>\n",
       "      <td>243</td>\n",
       "      <td>2017-07-17</td>\n",
       "      <td>2017-11-08</td>\n",
       "      <td>Bihar</td>\n",
       "      <td>19</td>\n",
       "      <td>11</td>\n",
       "    </tr>\n",
       "    <tr>\n",
       "      <th>147</th>\n",
       "      <td>148</td>\n",
       "      <td>145</td>\n",
       "      <td>Shri Bashistha Narain Singh</td>\n",
       "      <td>243</td>\n",
       "      <td>2017-07-17</td>\n",
       "      <td>2017-11-08</td>\n",
       "      <td>Bihar</td>\n",
       "      <td>19</td>\n",
       "      <td>14</td>\n",
       "    </tr>\n",
       "    <tr>\n",
       "      <th>87</th>\n",
       "      <td>88</td>\n",
       "      <td>87</td>\n",
       "      <td>Shri Mukul Roy</td>\n",
       "      <td>243</td>\n",
       "      <td>2017-07-17</td>\n",
       "      <td>2017-11-08</td>\n",
       "      <td>West Bengal</td>\n",
       "      <td>19</td>\n",
       "      <td>10</td>\n",
       "    </tr>\n",
       "    <tr>\n",
       "      <th>41</th>\n",
       "      <td>42</td>\n",
       "      <td>41</td>\n",
       "      <td>Shri Prabhat Jha</td>\n",
       "      <td>243</td>\n",
       "      <td>2017-07-17</td>\n",
       "      <td>2017-11-08</td>\n",
       "      <td>Madhya Pradesh</td>\n",
       "      <td>19</td>\n",
       "      <td>18</td>\n",
       "    </tr>\n",
       "  </tbody>\n",
       "</table>\n",
       "</div>"
      ],
      "text/plain": [
       "     s.no.  Division/ SeatNo                 Name Of Member  session  \\\n",
       "166    167               163        Shri Ravi Prakash Verma      243   \n",
       "152    153               149  Shri Ram Chandra Prasad Singh      243   \n",
       "147    148               145    Shri Bashistha Narain Singh      243   \n",
       "87      88                87                 Shri Mukul Roy      243   \n",
       "41      42                41               Shri Prabhat Jha      243   \n",
       "\n",
       "     From Date    To Date           State  Total Sittings  \\\n",
       "166 2017-07-17 2017-11-08   Uttar Pradesh              19   \n",
       "152 2017-07-17 2017-11-08           Bihar              19   \n",
       "147 2017-07-17 2017-11-08           Bihar              19   \n",
       "87  2017-07-17 2017-11-08     West Bengal              19   \n",
       "41  2017-07-17 2017-11-08  Madhya Pradesh              19   \n",
       "\n",
       "    No Of Days Member Signed The Register  \n",
       "166                                    17  \n",
       "152                                    11  \n",
       "147                                    14  \n",
       "87                                     10  \n",
       "41                                     18  "
      ]
     },
     "execution_count": 8,
     "metadata": {},
     "output_type": "execute_result"
    }
   ],
   "source": [
    "df.sample(5)"
   ]
  },
  {
   "cell_type": "markdown",
   "metadata": {},
   "source": [
    "### Information about the Data"
   ]
  },
  {
   "cell_type": "code",
   "execution_count": 9,
   "metadata": {
    "scrolled": true
   },
   "outputs": [
    {
     "name": "stdout",
     "output_type": "stream",
     "text": [
      "<class 'pandas.core.frame.DataFrame'>\n",
      "RangeIndex: 249 entries, 0 to 248\n",
      "Data columns (total 9 columns):\n",
      " #   Column                                 Non-Null Count  Dtype         \n",
      "---  ------                                 --------------  -----         \n",
      " 0   s.no.                                  249 non-null    int64         \n",
      " 1   Division/ SeatNo                       249 non-null    int64         \n",
      " 2   Name Of Member                         249 non-null    object        \n",
      " 3   session                                249 non-null    int64         \n",
      " 4   From Date                              249 non-null    datetime64[ns]\n",
      " 5   To Date                                249 non-null    datetime64[ns]\n",
      " 6   State                                  249 non-null    object        \n",
      " 7   Total Sittings                         249 non-null    int64         \n",
      " 8   No Of Days Member Signed The Register  249 non-null    object        \n",
      "dtypes: datetime64[ns](2), int64(4), object(3)\n",
      "memory usage: 17.6+ KB\n"
     ]
    }
   ],
   "source": [
    "df.info()"
   ]
  },
  {
   "cell_type": "markdown",
   "metadata": {},
   "source": [
    "Inference : Data type of 'No Of Days Member Signed The Register' should be numeric but it shown as Object"
   ]
  },
  {
   "cell_type": "markdown",
   "metadata": {},
   "source": [
    "### Statistical measures"
   ]
  },
  {
   "cell_type": "code",
   "execution_count": 10,
   "metadata": {
    "scrolled": false
   },
   "outputs": [
    {
     "data": {
      "text/html": [
       "<div>\n",
       "<style scoped>\n",
       "    .dataframe tbody tr th:only-of-type {\n",
       "        vertical-align: middle;\n",
       "    }\n",
       "\n",
       "    .dataframe tbody tr th {\n",
       "        vertical-align: top;\n",
       "    }\n",
       "\n",
       "    .dataframe thead th {\n",
       "        text-align: right;\n",
       "    }\n",
       "</style>\n",
       "<table border=\"1\" class=\"dataframe\">\n",
       "  <thead>\n",
       "    <tr style=\"text-align: right;\">\n",
       "      <th></th>\n",
       "      <th>s.no.</th>\n",
       "      <th>Division/ SeatNo</th>\n",
       "      <th>session</th>\n",
       "      <th>Total Sittings</th>\n",
       "    </tr>\n",
       "  </thead>\n",
       "  <tbody>\n",
       "    <tr>\n",
       "      <th>count</th>\n",
       "      <td>249.000000</td>\n",
       "      <td>249.000000</td>\n",
       "      <td>249.0</td>\n",
       "      <td>249.0</td>\n",
       "    </tr>\n",
       "    <tr>\n",
       "      <th>mean</th>\n",
       "      <td>125.000000</td>\n",
       "      <td>122.899598</td>\n",
       "      <td>243.0</td>\n",
       "      <td>19.0</td>\n",
       "    </tr>\n",
       "    <tr>\n",
       "      <th>std</th>\n",
       "      <td>72.024301</td>\n",
       "      <td>71.077039</td>\n",
       "      <td>0.0</td>\n",
       "      <td>0.0</td>\n",
       "    </tr>\n",
       "    <tr>\n",
       "      <th>min</th>\n",
       "      <td>1.000000</td>\n",
       "      <td>0.000000</td>\n",
       "      <td>243.0</td>\n",
       "      <td>19.0</td>\n",
       "    </tr>\n",
       "    <tr>\n",
       "      <th>25%</th>\n",
       "      <td>63.000000</td>\n",
       "      <td>62.000000</td>\n",
       "      <td>243.0</td>\n",
       "      <td>19.0</td>\n",
       "    </tr>\n",
       "    <tr>\n",
       "      <th>50%</th>\n",
       "      <td>125.000000</td>\n",
       "      <td>125.000000</td>\n",
       "      <td>243.0</td>\n",
       "      <td>19.0</td>\n",
       "    </tr>\n",
       "    <tr>\n",
       "      <th>75%</th>\n",
       "      <td>187.000000</td>\n",
       "      <td>183.000000</td>\n",
       "      <td>243.0</td>\n",
       "      <td>19.0</td>\n",
       "    </tr>\n",
       "    <tr>\n",
       "      <th>max</th>\n",
       "      <td>249.000000</td>\n",
       "      <td>250.000000</td>\n",
       "      <td>243.0</td>\n",
       "      <td>19.0</td>\n",
       "    </tr>\n",
       "  </tbody>\n",
       "</table>\n",
       "</div>"
      ],
      "text/plain": [
       "            s.no.  Division/ SeatNo  session  Total Sittings\n",
       "count  249.000000        249.000000    249.0           249.0\n",
       "mean   125.000000        122.899598    243.0            19.0\n",
       "std     72.024301         71.077039      0.0             0.0\n",
       "min      1.000000          0.000000    243.0            19.0\n",
       "25%     63.000000         62.000000    243.0            19.0\n",
       "50%    125.000000        125.000000    243.0            19.0\n",
       "75%    187.000000        183.000000    243.0            19.0\n",
       "max    249.000000        250.000000    243.0            19.0"
      ]
     },
     "execution_count": 10,
     "metadata": {},
     "output_type": "execute_result"
    }
   ],
   "source": [
    "df.describe()"
   ]
  },
  {
   "cell_type": "markdown",
   "metadata": {},
   "source": [
    "Inference : There is no signifiance"
   ]
  },
  {
   "cell_type": "code",
   "execution_count": 11,
   "metadata": {
    "scrolled": true
   },
   "outputs": [
    {
     "data": {
      "text/plain": [
       "<seaborn.axisgrid.PairGrid at 0x1d01f417d30>"
      ]
     },
     "execution_count": 11,
     "metadata": {},
     "output_type": "execute_result"
    },
    {
     "data": {
      "image/png": "[encoded data removed]",
      "text/plain": [
       "<Figure size 720x720 with 20 Axes>"
      ]
     },
     "metadata": {
      "needs_background": "light"
     },
     "output_type": "display_data"
    }
   ],
   "source": [
    "sns.pairplot(df)"
   ]
  },
  {
   "cell_type": "markdown",
   "metadata": {},
   "source": [
    "Inference : Not significant"
   ]
  },
  {
   "cell_type": "markdown",
   "metadata": {},
   "source": [
    "### Rename Columns"
   ]
  },
  {
   "cell_type": "code",
   "execution_count": 12,
   "metadata": {
    "scrolled": true
   },
   "outputs": [
    {
     "data": {
      "text/plain": [
       "Index(['s.no.', 'Division/ SeatNo', 'Name Of Member', 'session', 'From Date',\n",
       "       'To Date', 'State', 'Total Sittings',\n",
       "       'No Of Days Member Signed The Register'],\n",
       "      dtype='object')"
      ]
     },
     "execution_count": 12,
     "metadata": {},
     "output_type": "execute_result"
    }
   ],
   "source": [
    "df.columns"
   ]
  },
  {
   "cell_type": "code",
   "execution_count": 13,
   "metadata": {},
   "outputs": [],
   "source": [
    "df.rename(columns={'No Of Days Member Signed The Register' : 'Present', 'Name Of Member':'Name'}, inplace=True)"
   ]
  },
  {
   "cell_type": "markdown",
   "metadata": {},
   "source": [
    "### Data wrangling"
   ]
  },
  {
   "cell_type": "markdown",
   "metadata": {},
   "source": [
    "### Create a new column ,'Absent'"
   ]
  },
  {
   "cell_type": "code",
   "execution_count": 14,
   "metadata": {},
   "outputs": [
    {
     "data": {
      "text/plain": [
       "19     61\n",
       "18     34\n",
       "17     27\n",
       "M      19\n",
       "16     17\n",
       "14     17\n",
       "13     12\n",
       "11      9\n",
       "15      9\n",
       "10      8\n",
       "8       8\n",
       "1       6\n",
       "12      6\n",
       "7       3\n",
       "6       3\n",
       "2       3\n",
       "9       2\n",
       "4       2\n",
       "5       1\n",
       "LOP     1\n",
       "HDC     1\n",
       "Name: Present, dtype: int64"
      ]
     },
     "execution_count": 14,
     "metadata": {},
     "output_type": "execute_result"
    }
   ],
   "source": [
    "df.Present.value_counts()"
   ]
  },
  {
   "cell_type": "code",
   "execution_count": 15,
   "metadata": {},
   "outputs": [],
   "source": [
    "# Function to calculate number of days absent\n",
    "def cal_absent(x):\n",
    "    if x in ['M','LOP','PM','HDC']: # Not required to record the presence\n",
    "        return(-1)\n",
    "    else:\n",
    "        return(19-int(x))"
   ]
  },
  {
   "cell_type": "code",
   "execution_count": 16,
   "metadata": {},
   "outputs": [],
   "source": [
    "df['Absent'] = df.Present.apply(cal_absent)"
   ]
  },
  {
   "cell_type": "markdown",
   "metadata": {},
   "source": [
    "### Create a new column, 'Gender'"
   ]
  },
  {
   "cell_type": "code",
   "execution_count": 17,
   "metadata": {},
   "outputs": [],
   "source": [
    "def get_gender(name):\n",
    "    first = name.split(\" \")[0]\n",
    "    if first in ['Shri','Dr.','Prof.']:\n",
    "        return('M')\n",
    "    elif first in ['Smt.','Ms.','Km.','Kumari']:\n",
    "        return('F')\n",
    "    else:\n",
    "        return('M')"
   ]
  },
  {
   "cell_type": "code",
   "execution_count": 18,
   "metadata": {},
   "outputs": [],
   "source": [
    "df['Gender'] = df.Name.apply(get_gender)"
   ]
  },
  {
   "cell_type": "markdown",
   "metadata": {},
   "source": [
    "### Create a new column , 'Elected'"
   ]
  },
  {
   "cell_type": "code",
   "execution_count": 19,
   "metadata": {},
   "outputs": [],
   "source": [
    "df['Elected'] = df.State.apply(lambda x: 'N' if x == 'Nominated' else 'Y')"
   ]
  },
  {
   "cell_type": "markdown",
   "metadata": {},
   "source": [
    "### Create a cleaned Dataframe after removing 'M', 'LOP' and 'HDC'"
   ]
  },
  {
   "cell_type": "code",
   "execution_count": 20,
   "metadata": {},
   "outputs": [],
   "source": [
    "df_cleaned = df[~df['Present'].isin(['M','LOP','HDC'])].copy()"
   ]
  },
  {
   "cell_type": "markdown",
   "metadata": {},
   "source": [
    "### Create a new column, 'Personal Rank'"
   ]
  },
  {
   "cell_type": "code",
   "execution_count": 21,
   "metadata": {},
   "outputs": [],
   "source": [
    "df_cleaned['Personal Rank'] = pd.cut(df_cleaned.Present, bins=3, labels=[3,2,1])"
   ]
  },
  {
   "cell_type": "code",
   "execution_count": 22,
   "metadata": {},
   "outputs": [
    {
     "data": {
      "text/html": [
       "<div>\n",
       "<style scoped>\n",
       "    .dataframe tbody tr th:only-of-type {\n",
       "        vertical-align: middle;\n",
       "    }\n",
       "\n",
       "    .dataframe tbody tr th {\n",
       "        vertical-align: top;\n",
       "    }\n",
       "\n",
       "    .dataframe thead th {\n",
       "        text-align: right;\n",
       "    }\n",
       "</style>\n",
       "<table border=\"1\" class=\"dataframe\">\n",
       "  <thead>\n",
       "    <tr style=\"text-align: right;\">\n",
       "      <th></th>\n",
       "      <th>s.no.</th>\n",
       "      <th>Division/ SeatNo</th>\n",
       "      <th>Name</th>\n",
       "      <th>session</th>\n",
       "      <th>From Date</th>\n",
       "      <th>To Date</th>\n",
       "      <th>State</th>\n",
       "      <th>Total Sittings</th>\n",
       "      <th>Present</th>\n",
       "      <th>Absent</th>\n",
       "      <th>Gender</th>\n",
       "      <th>Elected</th>\n",
       "      <th>Personal Rank</th>\n",
       "    </tr>\n",
       "  </thead>\n",
       "  <tbody>\n",
       "    <tr>\n",
       "      <th>0</th>\n",
       "      <td>1</td>\n",
       "      <td>0</td>\n",
       "      <td>Shri Vinay Dinu Tendulkar</td>\n",
       "      <td>243</td>\n",
       "      <td>2017-07-17</td>\n",
       "      <td>2017-11-08</td>\n",
       "      <td>Goa</td>\n",
       "      <td>19</td>\n",
       "      <td>9</td>\n",
       "      <td>10</td>\n",
       "      <td>M</td>\n",
       "      <td>Y</td>\n",
       "      <td>2</td>\n",
       "    </tr>\n",
       "    <tr>\n",
       "      <th>1</th>\n",
       "      <td>2</td>\n",
       "      <td>0</td>\n",
       "      <td>Smt. Sampatiya Uikey</td>\n",
       "      <td>243</td>\n",
       "      <td>2017-07-17</td>\n",
       "      <td>2017-11-08</td>\n",
       "      <td>Madhya Pradesh</td>\n",
       "      <td>19</td>\n",
       "      <td>2</td>\n",
       "      <td>17</td>\n",
       "      <td>F</td>\n",
       "      <td>Y</td>\n",
       "      <td>3</td>\n",
       "    </tr>\n",
       "    <tr>\n",
       "      <th>3</th>\n",
       "      <td>4</td>\n",
       "      <td>3</td>\n",
       "      <td>Shri Manohar Parrikar</td>\n",
       "      <td>243</td>\n",
       "      <td>2017-07-17</td>\n",
       "      <td>2017-11-08</td>\n",
       "      <td>Uttar Pradesh</td>\n",
       "      <td>19</td>\n",
       "      <td>1</td>\n",
       "      <td>18</td>\n",
       "      <td>M</td>\n",
       "      <td>Y</td>\n",
       "      <td>3</td>\n",
       "    </tr>\n",
       "    <tr>\n",
       "      <th>9</th>\n",
       "      <td>10</td>\n",
       "      <td>9</td>\n",
       "      <td>Shri Gopal Narayan Singh</td>\n",
       "      <td>243</td>\n",
       "      <td>2017-07-17</td>\n",
       "      <td>2017-11-08</td>\n",
       "      <td>Bihar</td>\n",
       "      <td>19</td>\n",
       "      <td>18</td>\n",
       "      <td>1</td>\n",
       "      <td>M</td>\n",
       "      <td>Y</td>\n",
       "      <td>1</td>\n",
       "    </tr>\n",
       "    <tr>\n",
       "      <th>10</th>\n",
       "      <td>11</td>\n",
       "      <td>10</td>\n",
       "      <td>Shri Vinay Katiyar</td>\n",
       "      <td>243</td>\n",
       "      <td>2017-07-17</td>\n",
       "      <td>2017-11-08</td>\n",
       "      <td>Uttar Pradesh</td>\n",
       "      <td>19</td>\n",
       "      <td>19</td>\n",
       "      <td>0</td>\n",
       "      <td>M</td>\n",
       "      <td>Y</td>\n",
       "      <td>1</td>\n",
       "    </tr>\n",
       "    <tr>\n",
       "      <th>...</th>\n",
       "      <td>...</td>\n",
       "      <td>...</td>\n",
       "      <td>...</td>\n",
       "      <td>...</td>\n",
       "      <td>...</td>\n",
       "      <td>...</td>\n",
       "      <td>...</td>\n",
       "      <td>...</td>\n",
       "      <td>...</td>\n",
       "      <td>...</td>\n",
       "      <td>...</td>\n",
       "      <td>...</td>\n",
       "      <td>...</td>\n",
       "    </tr>\n",
       "    <tr>\n",
       "      <th>244</th>\n",
       "      <td>245</td>\n",
       "      <td>243</td>\n",
       "      <td>Smt. Rajani Patil</td>\n",
       "      <td>243</td>\n",
       "      <td>2017-07-17</td>\n",
       "      <td>2017-11-08</td>\n",
       "      <td>Maharashtra</td>\n",
       "      <td>19</td>\n",
       "      <td>18</td>\n",
       "      <td>1</td>\n",
       "      <td>F</td>\n",
       "      <td>Y</td>\n",
       "      <td>1</td>\n",
       "    </tr>\n",
       "    <tr>\n",
       "      <th>245</th>\n",
       "      <td>246</td>\n",
       "      <td>244</td>\n",
       "      <td>Smt. Wansuk Syiem</td>\n",
       "      <td>243</td>\n",
       "      <td>2017-07-17</td>\n",
       "      <td>2017-11-08</td>\n",
       "      <td>Meghalaya</td>\n",
       "      <td>19</td>\n",
       "      <td>12</td>\n",
       "      <td>7</td>\n",
       "      <td>F</td>\n",
       "      <td>Y</td>\n",
       "      <td>2</td>\n",
       "    </tr>\n",
       "    <tr>\n",
       "      <th>246</th>\n",
       "      <td>247</td>\n",
       "      <td>246</td>\n",
       "      <td>Shri Ripun Bora</td>\n",
       "      <td>243</td>\n",
       "      <td>2017-07-17</td>\n",
       "      <td>2017-11-08</td>\n",
       "      <td>Assam</td>\n",
       "      <td>19</td>\n",
       "      <td>17</td>\n",
       "      <td>2</td>\n",
       "      <td>M</td>\n",
       "      <td>Y</td>\n",
       "      <td>1</td>\n",
       "    </tr>\n",
       "    <tr>\n",
       "      <th>247</th>\n",
       "      <td>248</td>\n",
       "      <td>249</td>\n",
       "      <td>Dr. Pradeep Kumar Balmuchu</td>\n",
       "      <td>243</td>\n",
       "      <td>2017-07-17</td>\n",
       "      <td>2017-11-08</td>\n",
       "      <td>Jharkhand</td>\n",
       "      <td>19</td>\n",
       "      <td>17</td>\n",
       "      <td>2</td>\n",
       "      <td>M</td>\n",
       "      <td>Y</td>\n",
       "      <td>1</td>\n",
       "    </tr>\n",
       "    <tr>\n",
       "      <th>248</th>\n",
       "      <td>249</td>\n",
       "      <td>250</td>\n",
       "      <td>Shri Mahendra Singh Mahra</td>\n",
       "      <td>243</td>\n",
       "      <td>2017-07-17</td>\n",
       "      <td>2017-11-08</td>\n",
       "      <td>Uttarakhand</td>\n",
       "      <td>19</td>\n",
       "      <td>19</td>\n",
       "      <td>0</td>\n",
       "      <td>M</td>\n",
       "      <td>Y</td>\n",
       "      <td>1</td>\n",
       "    </tr>\n",
       "  </tbody>\n",
       "</table>\n",
       "<p>228 rows × 13 columns</p>\n",
       "</div>"
      ],
      "text/plain": [
       "     s.no.  Division/ SeatNo                        Name  session  From Date  \\\n",
       "0        1                 0   Shri Vinay Dinu Tendulkar      243 2017-07-17   \n",
       "1        2                 0        Smt. Sampatiya Uikey      243 2017-07-17   \n",
       "3        4                 3       Shri Manohar Parrikar      243 2017-07-17   \n",
       "9       10                 9    Shri Gopal Narayan Singh      243 2017-07-17   \n",
       "10      11                10          Shri Vinay Katiyar      243 2017-07-17   \n",
       "..     ...               ...                         ...      ...        ...   \n",
       "244    245               243           Smt. Rajani Patil      243 2017-07-17   \n",
       "245    246               244           Smt. Wansuk Syiem      243 2017-07-17   \n",
       "246    247               246             Shri Ripun Bora      243 2017-07-17   \n",
       "247    248               249  Dr. Pradeep Kumar Balmuchu      243 2017-07-17   \n",
       "248    249               250   Shri Mahendra Singh Mahra      243 2017-07-17   \n",
       "\n",
       "       To Date           State  Total Sittings Present  Absent Gender Elected  \\\n",
       "0   2017-11-08             Goa              19       9      10      M       Y   \n",
       "1   2017-11-08  Madhya Pradesh              19       2      17      F       Y   \n",
       "3   2017-11-08   Uttar Pradesh              19       1      18      M       Y   \n",
       "9   2017-11-08           Bihar              19      18       1      M       Y   \n",
       "10  2017-11-08   Uttar Pradesh              19      19       0      M       Y   \n",
       "..         ...             ...             ...     ...     ...    ...     ...   \n",
       "244 2017-11-08     Maharashtra              19      18       1      F       Y   \n",
       "245 2017-11-08       Meghalaya              19      12       7      F       Y   \n",
       "246 2017-11-08           Assam              19      17       2      M       Y   \n",
       "247 2017-11-08       Jharkhand              19      17       2      M       Y   \n",
       "248 2017-11-08     Uttarakhand              19      19       0      M       Y   \n",
       "\n",
       "    Personal Rank  \n",
       "0               2  \n",
       "1               3  \n",
       "3               3  \n",
       "9               1  \n",
       "10              1  \n",
       "..            ...  \n",
       "244             1  \n",
       "245             2  \n",
       "246             1  \n",
       "247             1  \n",
       "248             1  \n",
       "\n",
       "[228 rows x 13 columns]"
      ]
     },
     "execution_count": 22,
     "metadata": {},
     "output_type": "execute_result"
    }
   ],
   "source": [
    "df_cleaned"
   ]
  },
  {
   "cell_type": "markdown",
   "metadata": {},
   "source": [
    "# Univariate Analysis"
   ]
  },
  {
   "cell_type": "markdown",
   "metadata": {},
   "source": [
    "### 'Present' column analysis"
   ]
  },
  {
   "cell_type": "code",
   "execution_count": 23,
   "metadata": {
    "scrolled": false
   },
   "outputs": [
    {
     "name": "stdout",
     "output_type": "stream",
     "text": [
      "<class 'pandas.core.frame.DataFrame'>\n",
      "Int64Index: 228 entries, 0 to 248\n",
      "Data columns (total 13 columns):\n",
      " #   Column            Non-Null Count  Dtype         \n",
      "---  ------            --------------  -----         \n",
      " 0   s.no.             228 non-null    int64         \n",
      " 1   Division/ SeatNo  228 non-null    int64         \n",
      " 2   Name              228 non-null    object        \n",
      " 3   session           228 non-null    int64         \n",
      " 4   From Date         228 non-null    datetime64[ns]\n",
      " 5   To Date           228 non-null    datetime64[ns]\n",
      " 6   State             228 non-null    object        \n",
      " 7   Total Sittings    228 non-null    int64         \n",
      " 8   Present           228 non-null    object        \n",
      " 9   Absent            228 non-null    int64         \n",
      " 10  Gender            228 non-null    object        \n",
      " 11  Elected           228 non-null    object        \n",
      " 12  Personal Rank     228 non-null    category      \n",
      "dtypes: category(1), datetime64[ns](2), int64(5), object(5)\n",
      "memory usage: 23.5+ KB\n"
     ]
    }
   ],
   "source": [
    "df_cleaned.info()"
   ]
  },
  {
   "cell_type": "markdown",
   "metadata": {},
   "source": [
    "Inference :"
   ]
  },
  {
   "cell_type": "markdown",
   "metadata": {},
   "source": [
    "### Change data type to Numeric"
   ]
  },
  {
   "cell_type": "code",
   "execution_count": 24,
   "metadata": {},
   "outputs": [],
   "source": [
    "df_cleaned.Present = pd.to_numeric(df_cleaned.Present)"
   ]
  },
  {
   "cell_type": "code",
   "execution_count": 25,
   "metadata": {
    "scrolled": true
   },
   "outputs": [
    {
     "data": {
      "text/plain": [
       "count    228.000000\n",
       "mean      15.035088\n",
       "std        4.595401\n",
       "min        1.000000\n",
       "25%       13.000000\n",
       "50%       17.000000\n",
       "75%       19.000000\n",
       "max       19.000000\n",
       "Name: Present, dtype: float64"
      ]
     },
     "execution_count": 25,
     "metadata": {},
     "output_type": "execute_result"
    }
   ],
   "source": [
    "df_cleaned.Present.describe()"
   ]
  },
  {
   "cell_type": "code",
   "execution_count": 26,
   "metadata": {},
   "outputs": [
    {
     "data": {
      "image/png": "[encoded data removed]",
      "text/plain": [
       "<Figure size 720x144 with 1 Axes>"
      ]
     },
     "metadata": {
      "needs_background": "light"
     },
     "output_type": "display_data"
    }
   ],
   "source": [
    "df_cleaned.boxplot(column='Present', vert=False, figsize = (10,2))\n",
    "plt.show()"
   ]
  },
  {
   "cell_type": "markdown",
   "metadata": {},
   "source": [
    "Inference : "
   ]
  },
  {
   "cell_type": "code",
   "execution_count": 27,
   "metadata": {},
   "outputs": [
    {
     "name": "stdout",
     "output_type": "stream",
     "text": [
      "Q1 : 13.0, Q2 : 17.0, Q3 : 19.0, IQR : 6.0\n"
     ]
    }
   ],
   "source": [
    "q1, q2, q3 = df_cleaned.Present.quantile(q=[.25,.5,.75])\n",
    "IQR = q3-q1\n",
    "print(\"Q1 : {}, Q2 : {}, Q3 : {}, IQR : {}\".format(q1,q2,q3,IQR))"
   ]
  },
  {
   "cell_type": "code",
   "execution_count": 28,
   "metadata": {
    "scrolled": true
   },
   "outputs": [
    {
     "data": {
      "image/png": "[encoded data removed]",
      "text/plain": [
       "<Figure size 432x288 with 1 Axes>"
      ]
     },
     "metadata": {
      "needs_background": "light"
     },
     "output_type": "display_data"
    }
   ],
   "source": [
    "# Histogram\n",
    "df_cleaned.Present.hist(bins = 3)\n",
    "plt.show()"
   ]
  },
  {
   "cell_type": "markdown",
   "metadata": {},
   "source": [
    "Inference : "
   ]
  },
  {
   "cell_type": "markdown",
   "metadata": {},
   "source": [
    "### 'State' Column Analysis"
   ]
  },
  {
   "cell_type": "code",
   "execution_count": 29,
   "metadata": {
    "scrolled": true
   },
   "outputs": [
    {
     "data": {
      "text/plain": [
       "Uttar Pradesh                          35\n",
       "Tamil Nadu                             19\n",
       "Maharashtra                            17\n",
       "West Bengal                            15\n",
       "Bihar                                  14\n",
       "Nominated                              12\n",
       "Karnataka                              11\n",
       "Odisha                                 10\n",
       "Andhra Pradesh                          9\n",
       "Rajasthan                               8\n",
       "Kerala                                  8\n",
       "Madhya Pradesh                          8\n",
       "Punjab                                  7\n",
       "Assam                                   7\n",
       "Gujarat                                 7\n",
       "Telangana                               6\n",
       "Chhattisgarh                            5\n",
       "Jharkhand                               5\n",
       "Haryana                                 4\n",
       "Jammu & Kashmir                         3\n",
       "National Capital Territory of Delhi     3\n",
       "Uttarakhand                             3\n",
       "Himachal Pradesh                        2\n",
       "Goa                                     2\n",
       "Manipur                                 1\n",
       "Arunachal Pradesh                       1\n",
       "Puducherry                              1\n",
       "Tripura                                 1\n",
       "Nagaland                                1\n",
       "Sikkim                                  1\n",
       "Mizoram                                 1\n",
       "Meghalaya                               1\n",
       "Name: State, dtype: int64"
      ]
     },
     "execution_count": 29,
     "metadata": {},
     "output_type": "execute_result"
    }
   ],
   "source": [
    "df_cleaned.State.value_counts()"
   ]
  },
  {
   "cell_type": "markdown",
   "metadata": {},
   "source": [
    "Inference : "
   ]
  },
  {
   "cell_type": "markdown",
   "metadata": {},
   "source": [
    "### 'Gender' column analysis"
   ]
  },
  {
   "cell_type": "code",
   "execution_count": 30,
   "metadata": {},
   "outputs": [
    {
     "data": {
      "text/plain": [
       "<matplotlib.axes._subplots.AxesSubplot at 0x1d020600df0>"
      ]
     },
     "execution_count": 30,
     "metadata": {},
     "output_type": "execute_result"
    },
    {
     "data": {
      "image/png": "[encoded data removed]",
      "text/plain": [
       "<Figure size 432x288 with 1 Axes>"
      ]
     },
     "metadata": {},
     "output_type": "display_data"
    }
   ],
   "source": [
    "df_cleaned.Gender.value_counts().plot(kind='pie', autopct='%1.2f%%', explode=[0.2,0])"
   ]
  },
  {
   "cell_type": "markdown",
   "metadata": {},
   "source": [
    "### Multivariate Analysis"
   ]
  },
  {
   "cell_type": "code",
   "execution_count": 31,
   "metadata": {},
   "outputs": [
    {
     "data": {
      "text/plain": [
       "Text(0, 0.5, 'Count')"
      ]
     },
     "execution_count": 31,
     "metadata": {},
     "output_type": "execute_result"
    },
    {
     "data": {
      "image/png": "[encoded data removed]",
      "text/plain": [
       "<Figure size 864x360 with 1 Axes>"
      ]
     },
     "metadata": {
      "needs_background": "light"
     },
     "output_type": "display_data"
    }
   ],
   "source": [
    "pd.crosstab(df_cleaned.State, df_cleaned.Gender).plot(kind='bar', figsize=(12,5), stacked=True)\n",
    "plt.grid()\n",
    "plt.ylabel('Count')"
   ]
  },
  {
   "cell_type": "markdown",
   "metadata": {},
   "source": [
    "Inference :"
   ]
  },
  {
   "cell_type": "code",
   "execution_count": 32,
   "metadata": {
    "scrolled": true
   },
   "outputs": [
    {
     "data": {
      "image/png": "[encoded data removed]",
      "text/plain": [
       "<Figure size 720x288 with 1 Axes>"
      ]
     },
     "metadata": {
      "needs_background": "light"
     },
     "output_type": "display_data"
    }
   ],
   "source": [
    "df_cleaned.groupby('State').agg({'Total Sittings': np.sum,'Present': np.sum, 'Absent' : np.sum}).plot(kind='bar', \n",
    "                                                                                    stacked=True, figsize=(10,4))\n",
    "plt.grid()"
   ]
  },
  {
   "cell_type": "markdown",
   "metadata": {},
   "source": [
    "Inference : "
   ]
  },
  {
   "cell_type": "code",
   "execution_count": 33,
   "metadata": {
    "scrolled": true
   },
   "outputs": [],
   "source": [
    "df_per = df_cleaned.groupby(['State']).agg({'Total Sittings': np.sum,'Present': np.sum, 'Absent' : np.sum})\n",
    "\n",
    "df_per['Performance'] = df_per['Present'] / df_per['Total Sittings'] * 100"
   ]
  },
  {
   "cell_type": "markdown",
   "metadata": {},
   "source": [
    "### Top 5 performer"
   ]
  },
  {
   "cell_type": "code",
   "execution_count": 34,
   "metadata": {
    "scrolled": true
   },
   "outputs": [
    {
     "data": {
      "text/html": [
       "<div>\n",
       "<style scoped>\n",
       "    .dataframe tbody tr th:only-of-type {\n",
       "        vertical-align: middle;\n",
       "    }\n",
       "\n",
       "    .dataframe tbody tr th {\n",
       "        vertical-align: top;\n",
       "    }\n",
       "\n",
       "    .dataframe thead th {\n",
       "        text-align: right;\n",
       "    }\n",
       "</style>\n",
       "<table border=\"1\" class=\"dataframe\">\n",
       "  <thead>\n",
       "    <tr style=\"text-align: right;\">\n",
       "      <th></th>\n",
       "      <th>Total Sittings</th>\n",
       "      <th>Present</th>\n",
       "      <th>Absent</th>\n",
       "      <th>Performance</th>\n",
       "    </tr>\n",
       "    <tr>\n",
       "      <th>State</th>\n",
       "      <th></th>\n",
       "      <th></th>\n",
       "      <th></th>\n",
       "      <th></th>\n",
       "    </tr>\n",
       "  </thead>\n",
       "  <tbody>\n",
       "    <tr>\n",
       "      <th>Himachal Pradesh</th>\n",
       "      <td>38</td>\n",
       "      <td>38</td>\n",
       "      <td>0</td>\n",
       "      <td>100.000000</td>\n",
       "    </tr>\n",
       "    <tr>\n",
       "      <th>Mizoram</th>\n",
       "      <td>19</td>\n",
       "      <td>19</td>\n",
       "      <td>0</td>\n",
       "      <td>100.000000</td>\n",
       "    </tr>\n",
       "    <tr>\n",
       "      <th>Chhattisgarh</th>\n",
       "      <td>95</td>\n",
       "      <td>92</td>\n",
       "      <td>3</td>\n",
       "      <td>96.842105</td>\n",
       "    </tr>\n",
       "    <tr>\n",
       "      <th>Manipur</th>\n",
       "      <td>19</td>\n",
       "      <td>18</td>\n",
       "      <td>1</td>\n",
       "      <td>94.736842</td>\n",
       "    </tr>\n",
       "    <tr>\n",
       "      <th>Karnataka</th>\n",
       "      <td>209</td>\n",
       "      <td>193</td>\n",
       "      <td>16</td>\n",
       "      <td>92.344498</td>\n",
       "    </tr>\n",
       "  </tbody>\n",
       "</table>\n",
       "</div>"
      ],
      "text/plain": [
       "                  Total Sittings  Present  Absent  Performance\n",
       "State                                                         \n",
       "Himachal Pradesh              38       38       0   100.000000\n",
       "Mizoram                       19       19       0   100.000000\n",
       "Chhattisgarh                  95       92       3    96.842105\n",
       "Manipur                       19       18       1    94.736842\n",
       "Karnataka                    209      193      16    92.344498"
      ]
     },
     "execution_count": 34,
     "metadata": {},
     "output_type": "execute_result"
    }
   ],
   "source": [
    "df_per.nlargest(5, 'Performance')"
   ]
  },
  {
   "cell_type": "markdown",
   "metadata": {},
   "source": [
    "### Bottom 5 performer"
   ]
  },
  {
   "cell_type": "code",
   "execution_count": 35,
   "metadata": {
    "scrolled": true
   },
   "outputs": [
    {
     "data": {
      "text/html": [
       "<div>\n",
       "<style scoped>\n",
       "    .dataframe tbody tr th:only-of-type {\n",
       "        vertical-align: middle;\n",
       "    }\n",
       "\n",
       "    .dataframe tbody tr th {\n",
       "        vertical-align: top;\n",
       "    }\n",
       "\n",
       "    .dataframe thead th {\n",
       "        text-align: right;\n",
       "    }\n",
       "</style>\n",
       "<table border=\"1\" class=\"dataframe\">\n",
       "  <thead>\n",
       "    <tr style=\"text-align: right;\">\n",
       "      <th></th>\n",
       "      <th>Total Sittings</th>\n",
       "      <th>Present</th>\n",
       "      <th>Absent</th>\n",
       "      <th>Performance</th>\n",
       "    </tr>\n",
       "    <tr>\n",
       "      <th>State</th>\n",
       "      <th></th>\n",
       "      <th></th>\n",
       "      <th></th>\n",
       "      <th></th>\n",
       "    </tr>\n",
       "  </thead>\n",
       "  <tbody>\n",
       "    <tr>\n",
       "      <th>Nagaland</th>\n",
       "      <td>19</td>\n",
       "      <td>1</td>\n",
       "      <td>18</td>\n",
       "      <td>5.263158</td>\n",
       "    </tr>\n",
       "    <tr>\n",
       "      <th>Goa</th>\n",
       "      <td>38</td>\n",
       "      <td>13</td>\n",
       "      <td>25</td>\n",
       "      <td>34.210526</td>\n",
       "    </tr>\n",
       "    <tr>\n",
       "      <th>Sikkim</th>\n",
       "      <td>19</td>\n",
       "      <td>9</td>\n",
       "      <td>10</td>\n",
       "      <td>47.368421</td>\n",
       "    </tr>\n",
       "    <tr>\n",
       "      <th>Andhra Pradesh</th>\n",
       "      <td>171</td>\n",
       "      <td>105</td>\n",
       "      <td>66</td>\n",
       "      <td>61.403509</td>\n",
       "    </tr>\n",
       "    <tr>\n",
       "      <th>Meghalaya</th>\n",
       "      <td>19</td>\n",
       "      <td>12</td>\n",
       "      <td>7</td>\n",
       "      <td>63.157895</td>\n",
       "    </tr>\n",
       "  </tbody>\n",
       "</table>\n",
       "</div>"
      ],
      "text/plain": [
       "                Total Sittings  Present  Absent  Performance\n",
       "State                                                       \n",
       "Nagaland                    19        1      18     5.263158\n",
       "Goa                         38       13      25    34.210526\n",
       "Sikkim                      19        9      10    47.368421\n",
       "Andhra Pradesh             171      105      66    61.403509\n",
       "Meghalaya                   19       12       7    63.157895"
      ]
     },
     "execution_count": 35,
     "metadata": {},
     "output_type": "execute_result"
    }
   ],
   "source": [
    "df_per.nsmallest(5, 'Performance')"
   ]
  },
  {
   "cell_type": "markdown",
   "metadata": {},
   "source": [
    "### Performance Bar chart"
   ]
  },
  {
   "cell_type": "code",
   "execution_count": 36,
   "metadata": {},
   "outputs": [
    {
     "data": {
      "text/plain": [
       "Text(0, 0.5, '%')"
      ]
     },
     "execution_count": 36,
     "metadata": {},
     "output_type": "execute_result"
    },
    {
     "data": {
      "image/png": "[encoded data removed]",
      "text/plain": [
       "<Figure size 720x288 with 1 Axes>"
      ]
     },
     "metadata": {
      "needs_background": "light"
     },
     "output_type": "display_data"
    }
   ],
   "source": [
    "df_per.nlargest(60,'Performance').Performance.plot(kind='bar', figsize=(10,4))\n",
    "plt.grid()\n",
    "plt.ylabel('%')"
   ]
  },
  {
   "cell_type": "code",
   "execution_count": 37,
   "metadata": {},
   "outputs": [],
   "source": [
    "df_per = df_cleaned.groupby(['Gender']).agg({'Total Sittings': np.sum,'Present': np.sum, 'Absent' : np.sum})\n",
    "\n",
    "df_per['Performance'] = df_per['Present'] / df_per['Total Sittings'] * 100"
   ]
  },
  {
   "cell_type": "code",
   "execution_count": 38,
   "metadata": {},
   "outputs": [
    {
     "data": {
      "text/html": [
       "<div>\n",
       "<style scoped>\n",
       "    .dataframe tbody tr th:only-of-type {\n",
       "        vertical-align: middle;\n",
       "    }\n",
       "\n",
       "    .dataframe tbody tr th {\n",
       "        vertical-align: top;\n",
       "    }\n",
       "\n",
       "    .dataframe thead th {\n",
       "        text-align: right;\n",
       "    }\n",
       "</style>\n",
       "<table border=\"1\" class=\"dataframe\">\n",
       "  <thead>\n",
       "    <tr style=\"text-align: right;\">\n",
       "      <th></th>\n",
       "      <th>Total Sittings</th>\n",
       "      <th>Present</th>\n",
       "      <th>Absent</th>\n",
       "      <th>Performance</th>\n",
       "    </tr>\n",
       "    <tr>\n",
       "      <th>Gender</th>\n",
       "      <th></th>\n",
       "      <th></th>\n",
       "      <th></th>\n",
       "      <th></th>\n",
       "    </tr>\n",
       "  </thead>\n",
       "  <tbody>\n",
       "    <tr>\n",
       "      <th>F</th>\n",
       "      <td>475</td>\n",
       "      <td>340</td>\n",
       "      <td>135</td>\n",
       "      <td>71.578947</td>\n",
       "    </tr>\n",
       "    <tr>\n",
       "      <th>M</th>\n",
       "      <td>3857</td>\n",
       "      <td>3088</td>\n",
       "      <td>769</td>\n",
       "      <td>80.062225</td>\n",
       "    </tr>\n",
       "  </tbody>\n",
       "</table>\n",
       "</div>"
      ],
      "text/plain": [
       "        Total Sittings  Present  Absent  Performance\n",
       "Gender                                              \n",
       "F                  475      340     135    71.578947\n",
       "M                 3857     3088     769    80.062225"
      ]
     },
     "execution_count": 38,
     "metadata": {},
     "output_type": "execute_result"
    }
   ],
   "source": [
    "df_per"
   ]
  },
  {
   "cell_type": "code",
   "execution_count": 39,
   "metadata": {},
   "outputs": [
    {
     "data": {
      "text/plain": [
       "Text(0, 0.5, 'Sum of Sessions')"
      ]
     },
     "execution_count": 39,
     "metadata": {},
     "output_type": "execute_result"
    },
    {
     "data": {
      "image/png": "[encoded data removed]",
      "text/plain": [
       "<Figure size 432x288 with 1 Axes>"
      ]
     },
     "metadata": {
      "needs_background": "light"
     },
     "output_type": "display_data"
    }
   ],
   "source": [
    "df_per[['Present','Absent','Performance']].plot(kind='bar', stacked=True)\n",
    "plt.grid()\n",
    "plt.ylabel('Sum of Sessions')"
   ]
  },
  {
   "cell_type": "code",
   "execution_count": 40,
   "metadata": {
    "scrolled": true
   },
   "outputs": [
    {
     "data": {
      "text/plain": [
       "Text(0, 0.5, 'Count')"
      ]
     },
     "execution_count": 40,
     "metadata": {},
     "output_type": "execute_result"
    },
    {
     "data": {
      "image/png": "[encoded data removed]",
      "text/plain": [
       "<Figure size 432x288 with 1 Axes>"
      ]
     },
     "metadata": {
      "needs_background": "light"
     },
     "output_type": "display_data"
    }
   ],
   "source": [
    "pd.crosstab(df.Gender, df.Elected).plot(kind='bar', stacked=True)\n",
    "plt.grid()\n",
    "plt.ylabel('Count')"
   ]
  },
  {
   "cell_type": "markdown",
   "metadata": {},
   "source": [
    "### Personal Ranking"
   ]
  },
  {
   "cell_type": "code",
   "execution_count": 41,
   "metadata": {
    "scrolled": true
   },
   "outputs": [
    {
     "data": {
      "text/html": [
       "<div>\n",
       "<style scoped>\n",
       "    .dataframe tbody tr th:only-of-type {\n",
       "        vertical-align: middle;\n",
       "    }\n",
       "\n",
       "    .dataframe tbody tr th {\n",
       "        vertical-align: top;\n",
       "    }\n",
       "\n",
       "    .dataframe thead th {\n",
       "        text-align: right;\n",
       "    }\n",
       "</style>\n",
       "<table border=\"1\" class=\"dataframe\">\n",
       "  <thead>\n",
       "    <tr style=\"text-align: right;\">\n",
       "      <th>Personal Rank</th>\n",
       "      <th>3</th>\n",
       "      <th>2</th>\n",
       "      <th>1</th>\n",
       "      <th>Total%</th>\n",
       "    </tr>\n",
       "    <tr>\n",
       "      <th>Gender</th>\n",
       "      <th></th>\n",
       "      <th></th>\n",
       "      <th></th>\n",
       "      <th></th>\n",
       "    </tr>\n",
       "  </thead>\n",
       "  <tbody>\n",
       "    <tr>\n",
       "      <th>F</th>\n",
       "      <td>0.017544</td>\n",
       "      <td>0.026316</td>\n",
       "      <td>0.065789</td>\n",
       "      <td>0.109649</td>\n",
       "    </tr>\n",
       "    <tr>\n",
       "      <th>M</th>\n",
       "      <td>0.061404</td>\n",
       "      <td>0.171053</td>\n",
       "      <td>0.657895</td>\n",
       "      <td>0.890351</td>\n",
       "    </tr>\n",
       "    <tr>\n",
       "      <th>Total%</th>\n",
       "      <td>0.078947</td>\n",
       "      <td>0.197368</td>\n",
       "      <td>0.723684</td>\n",
       "      <td>1.000000</td>\n",
       "    </tr>\n",
       "  </tbody>\n",
       "</table>\n",
       "</div>"
      ],
      "text/plain": [
       "Personal Rank         3         2         1    Total%\n",
       "Gender                                               \n",
       "F              0.017544  0.026316  0.065789  0.109649\n",
       "M              0.061404  0.171053  0.657895  0.890351\n",
       "Total%         0.078947  0.197368  0.723684  1.000000"
      ]
     },
     "execution_count": 41,
     "metadata": {},
     "output_type": "execute_result"
    }
   ],
   "source": [
    "# Clustering into 3 \n",
    "pd.crosstab(df_cleaned.Gender, df_cleaned['Personal Rank'], normalize=True, margins=True, margins_name='Total%')"
   ]
  },
  {
   "cell_type": "code",
   "execution_count": 42,
   "metadata": {},
   "outputs": [
    {
     "data": {
      "text/html": [
       "<div>\n",
       "<style scoped>\n",
       "    .dataframe tbody tr th:only-of-type {\n",
       "        vertical-align: middle;\n",
       "    }\n",
       "\n",
       "    .dataframe tbody tr th {\n",
       "        vertical-align: top;\n",
       "    }\n",
       "\n",
       "    .dataframe thead th {\n",
       "        text-align: right;\n",
       "    }\n",
       "</style>\n",
       "<table border=\"1\" class=\"dataframe\">\n",
       "  <thead>\n",
       "    <tr style=\"text-align: right;\">\n",
       "      <th></th>\n",
       "      <th>amax</th>\n",
       "      <th>amin</th>\n",
       "    </tr>\n",
       "    <tr>\n",
       "      <th>Personal Rank</th>\n",
       "      <th></th>\n",
       "      <th></th>\n",
       "    </tr>\n",
       "  </thead>\n",
       "  <tbody>\n",
       "    <tr>\n",
       "      <th>3</th>\n",
       "      <td>7</td>\n",
       "      <td>1</td>\n",
       "    </tr>\n",
       "    <tr>\n",
       "      <th>2</th>\n",
       "      <td>13</td>\n",
       "      <td>8</td>\n",
       "    </tr>\n",
       "    <tr>\n",
       "      <th>1</th>\n",
       "      <td>19</td>\n",
       "      <td>14</td>\n",
       "    </tr>\n",
       "  </tbody>\n",
       "</table>\n",
       "</div>"
      ],
      "text/plain": [
       "               amax  amin\n",
       "Personal Rank            \n",
       "3                 7     1\n",
       "2                13     8\n",
       "1                19    14"
      ]
     },
     "execution_count": 42,
     "metadata": {},
     "output_type": "execute_result"
    }
   ],
   "source": [
    "df_cleaned.pivot_table(index='Personal Rank', values='Present', aggfunc={'Present' : [np.min, np.max]})"
   ]
  },
  {
   "cell_type": "code",
   "execution_count": 43,
   "metadata": {},
   "outputs": [
    {
     "data": {
      "image/png": "[encoded data removed]",
      "text/plain": [
       "<Figure size 720x216 with 1 Axes>"
      ]
     },
     "metadata": {
      "needs_background": "light"
     },
     "output_type": "display_data"
    }
   ],
   "source": [
    "pd.crosstab(df_cleaned.State, df_cleaned['Personal Rank']).plot(kind='bar', stacked=True, figsize=(10,3))\n",
    "plt.grid()\n",
    "plt.ylabel('Count of members')\n",
    "plt.show()"
   ]
  },
  {
   "cell_type": "code",
   "execution_count": null,
   "metadata": {},
   "outputs": [],
   "source": []
  }
 ],
 "metadata": {
  "kernelspec": {
   "display_name": "Python 3",
   "language": "python",
   "name": "python3"
  },
  "language_info": {
   "codemirror_mode": {
    "name": "ipython",
    "version": 3
   },
   "file_extension": ".py",
   "mimetype": "text/x-python",
   "name": "python",
   "nbconvert_exporter": "python",
   "pygments_lexer": "ipython3",
   "version": "3.8.5"
  },
  "toc": {
   "base_numbering": 1,
   "nav_menu": {},
   "number_sections": false,
   "sideBar": false,
   "skip_h1_title": false,
   "title_cell": "Table of Contents",
   "title_sidebar": "Contents",
   "toc_cell": false,
   "toc_position": {},
   "toc_section_display": false,
   "toc_window_display": false
  }
 },
 "nbformat": 4,
 "nbformat_minor": 4
}
